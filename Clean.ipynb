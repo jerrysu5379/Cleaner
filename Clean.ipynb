{
 "cells": [
  {
   "cell_type": "code",
   "execution_count": null,
   "id": "initial_id",
   "metadata": {
    "collapsed": true
   },
   "outputs": [],
   "source": [
    "import datetime\n",
    "from typing import List\n",
    "\n",
    "import pandas"
   ]
  },
  {
   "cell_type": "code",
   "execution_count": null,
   "outputs": [],
   "source": [
    "class Student:\n",
    "    def __init__(self, institute: str = '', major: str = '', class_name: str = '', name: str = '', student_id: int = 0,\n",
    "                 nation: str = '', enroll_time: str = '190001', graduation_time: str = '190001', educate_time: int = 0,\n",
    "                 birth_date: str = '19000101', identity_id: str = '', political_state: str = '', total_credit: int = 0,\n",
    "                 compulsory_credit: int = 0, public_credit: int = 0, professional_credit: int = 0) -> None:\n",
    "        self.institute = institute\n",
    "        self.major = major\n",
    "        self.class_name = class_name\n",
    "        self.name = name\n",
    "        self.student_id = student_id\n",
    "        self.nation = nation\n",
    "        self.enroll_time = datetime.datetime.strptime(enroll_time, '%Y%m')\n",
    "        self.graduation_time = datetime.datetime.strptime(graduation_time, '%Y%m')\n",
    "        self.educate_time = educate_time\n",
    "        self.birth_date = datetime.datetime.strptime(birth_date, '%Y%m%d')\n",
    "        self.identity_id = identity_id\n",
    "        self.political_state = political_state\n",
    "        self.total_credit = total_credit\n",
    "        self.compulsory_credit = compulsory_credit\n",
    "        self.public_credit = public_credit\n",
    "        self.professional_credit = professional_credit\n",
    "\n",
    "        self.course_list: List[Course] = []\n",
    "\n",
    "    def __repr__(self):\n",
    "        return f'<Student {self.name} {self.student_id}>'\n",
    "\n",
    "    def __str__(self):\n",
    "        return f'<Student {self.name} {self.student_id}>'\n",
    "\n",
    "    def __gt__(self, other):\n",
    "        return self.student_id > other.student_id\n",
    "\n",
    "    @classmethod\n",
    "    def load_from_pandas(cls, data_sheet) -> 'Student':\n",
    "        institute = data_sheet.iloc[59,15]\n",
    "        major = data_sheet.iloc[0, 5]\n",
    "        class_name = data_sheet.iloc[0, 10]\n",
    "        name = data_sheet.iloc[1, 1]\n",
    "        student_id = data_sheet.iloc[1, 5]\n",
    "        nation = data_sheet.iloc[1, 10]\n",
    "        enroll_time = data_sheet.iloc[2, 1]\n",
    "        graduation_time = ensure_string(data_sheet.iloc[2, 5])\n",
    "        birth_date = ensure_string(data_sheet.iloc[3, 1])\n",
    "        educate_time = ensure_string(data_sheet.iloc[2, 10])\n",
    "        identity_id = data_sheet.iloc[3, 5]\n",
    "        political_state = data_sheet.iloc[3, 10]\n",
    "        total_credit = data_sheet.iloc[4, 1]\n",
    "        compulsory_credit = data_sheet.iloc[4, 3]\n",
    "        public_credit = data_sheet.iloc[4, 7]\n",
    "        professional_credit = data_sheet.iloc[4, 10]\n",
    "        course_list = Course.load_from_pandas(data_sheet[6:len(data_sheet) - 1])\n",
    "\n",
    "        student = cls(institute, major, class_name, name, student_id, nation, enroll_time, graduation_time,\n",
    "                      educate_time, birth_date, identity_id, political_state, total_credit, compulsory_credit,\n",
    "                      public_credit, professional_credit)\n",
    "        student.course_list = course_list\n",
    "        return student\n"
   ],
   "metadata": {
    "collapsed": false
   },
   "id": "44a8b73c1fb192ec"
  },
  {
   "cell_type": "code",
   "execution_count": null,
   "outputs": [],
   "source": [
    "class Course:\n",
    "    def __init__(self, term: str = '', name: str = '', types: str = '', times: str = '', credit: float = 0,\n",
    "                 score: str = '') -> None:\n",
    "        self.term = term\n",
    "        self.name = name\n",
    "        self.types = types\n",
    "        self.times = times\n",
    "        self.credit = credit\n",
    "        self.score = score\n",
    "\n",
    "    def __repr__(self):\n",
    "        return f'<Course {self.name} {self.score}>'\n",
    "\n",
    "    def __str__(self):\n",
    "        return f'<Course {self.name} {self.score}>'\n",
    "\n",
    "    @classmethod\n",
    "    def load_from_pandas(cls, data_sheet) -> List['Course']:\n",
    "        course_list = []\n",
    "        for index_x in range(0, 12, 7):\n",
    "            for index_y in range(0, len(data_sheet)):\n",
    "                course_term = data_sheet.iloc[index_y, 0 + index_x]\n",
    "                course_name = data_sheet.iloc[index_y, 1 + index_x + (1 if index_x else 0)]\n",
    "                course_type = data_sheet.iloc[index_y, 3 + index_x + (2 if index_x else 0)]\n",
    "                course_time = data_sheet.iloc[index_y, 4 + index_x + (2 if index_x else 0)]\n",
    "                course_credit = data_sheet.iloc[index_y, 5 + index_x + (2 if index_x else 0)]\n",
    "                course_score = data_sheet.iloc[index_y, 6 + index_x + (2 if index_x else 0)]\n",
    "                d = [course_term, course_name, course_type, course_time, course_credit, course_score]\n",
    "                # if any d is nan\n",
    "                if any(map(lambda x: pandas.isna(x), d)):\n",
    "                    break\n",
    "                course = cls(*d)\n",
    "                course_list.append(course)\n",
    "        return course_list\n",
    "\n",
    "    @property\n",
    "    def is_public(self) -> bool:\n",
    "        return self.types == '公选'\n",
    "\n",
    "    @property\n",
    "    def is_professional(self) -> bool:\n",
    "        return self.name in professional_courses_name"
   ],
   "metadata": {
    "collapsed": false
   },
   "id": "6541147e2489b4b4"
  },
  {
   "cell_type": "code",
   "execution_count": null,
   "outputs": [],
   "source": [
    "def increasing_number(data: pandas.DataFrame) -> int:\n",
    "    return data.index.max() + 1"
   ],
   "metadata": {
    "collapsed": false
   },
   "id": "10758f525e58b684"
  },
  {
   "cell_type": "code",
   "execution_count": null,
   "outputs": [],
   "source": [
    "def load_student_data(path: str) -> List[Student]:\n",
    "    raw_data = pandas.read_excel(path)\n",
    "    student_list = []\n",
    "    page_size = 61\n",
    "    for index in range(0, len(raw_data), page_size):\n",
    "        student_data = raw_data[index:index + page_size - 1]\n",
    "        student = Student.load_from_pandas(student_data)\n",
    "        student_list.append(student)\n",
    "    return student_list"
   ],
   "metadata": {
    "collapsed": false
   },
   "id": "4076923eda51dffb"
  },
  {
   "cell_type": "code",
   "execution_count": null,
   "outputs": [],
   "source": [
    "def ensure_string(value):\n",
    "    if pandas.isna(value):\n",
    "        return '190001'  # 或其他默认值\n",
    "    elif isinstance(value, float):\n",
    "        return str(int(value))\n",
    "    return value\n"
   ],
   "metadata": {
    "collapsed": false
   },
   "id": "a2fd412a44b5dd31"
  },
  {
   "cell_type": "code",
   "execution_count": null,
   "outputs": [],
   "source": [
    "professional_courses_name = ['离散数学', '程序设计基础', '面向对象程序设计(Java)', '数据结构', '计算机组成与体系结构','操作系统原理', '计算机网络', '数据库系统原理']"
   ],
   "metadata": {
    "collapsed": false
   },
   "id": "59943983ccc769fd"
  },
  {
   "cell_type": "code",
   "execution_count": null,
   "outputs": [],
   "source": [
    "data_sheet = 'Data.xls'\n",
    "summary_sheet = '1.xlsx'\n",
    "data = load_student_data(data_sheet)\n",
    "summary_sheet = pandas.read_excel(summary_sheet, header=0)\n",
    "raw_columns = summary_sheet.columns\n",
    "summary_sheet.columns = range(0, len(summary_sheet.columns))\n",
    "summary_dict = {}"
   ],
   "metadata": {
    "collapsed": false
   },
   "id": "127207e6ee6098e1"
  },
  {
   "cell_type": "code",
   "execution_count": null,
   "outputs": [],
   "source": [
    "for student in data:\n",
    "    for course in student.course_list:\n",
    "        if '*' in course.score:\n",
    "            print(student, course)\n",
    "        elif course.is_professional:\n",
    "            if int(course.score) < 70:\n",
    "                print(student, course)\n",
    "        elif course.score.isnumeric():\n",
    "            if int(course.score) < 60:\n",
    "                print(student, course)"
   ],
   "metadata": {
    "collapsed": false
   },
   "id": "1f7a430aec65c129"
  },
  {
   "cell_type": "code",
   "execution_count": null,
   "outputs": [],
   "source": [
    "failed_course = []\n",
    "need_relearn_course = []\n",
    "unprofessional_course = []"
   ],
   "metadata": {
    "collapsed": false
   },
   "id": "17e41717b0d5692b"
  },
  {
   "cell_type": "code",
   "execution_count": null,
   "outputs": [],
   "source": [
    "for student in data:\n",
    "    failed_course = []\n",
    "    need_relearn_course = []\n",
    "    unprofessional_course = []\n",
    "\n",
    "    for course in student.course_list:\n",
    "        score = course.score\n",
    "        if '*' in score:\n",
    "            score = score.replace('*', '')\n",
    "\n",
    "        if not score.isnumeric():\n",
    "            continue\n",
    "        else:\n",
    "            score = int(score)\n",
    "\n",
    "        if course.is_professional:\n",
    "            if score < 70:\n",
    "                failed_course.append(course)\n",
    "                unprofessional_course.append(course)\n",
    "                need_relearn_course.append(course)\n",
    "        else:\n",
    "            if score < 60:\n",
    "                failed_course.append(course)\n",
    "                need_relearn_course.append(course)\n",
    "\n",
    "    if len(failed_course) or len(need_relearn_course) or len(unprofessional_course):\n",
    "\n",
    "        loc = increasing_number(summary_sheet)\n",
    "\n",
    "        summary_sheet.loc[loc, 0] = loc\n",
    "        summary_sheet.loc[loc, 1] = student.student_id\n",
    "        summary_sheet.loc[loc, 2] = student.name\n",
    "        summary_sheet.loc[loc, 3] = student.major\n",
    "        summary_sheet.loc[loc, 4] = student.enroll_time.year\n",
    "        summary_sheet.loc[loc, 5] = '\\n'.join([f'《{i.name}》{i.credit}学分' for i in failed_course])\n",
    "        summary_sheet.loc[loc, 6] = f'{sum([float(i.credit) for i in failed_course])}学分'\n",
    "        summary_sheet.loc[loc, 7] = '\\n'.join([f'{i.name} {i.score}' for i in unprofessional_course])\n",
    "        summary_sheet.loc[loc, 8] = '\\n'.join([i.name for i in need_relearn_course])\n",
    "\n",
    "summary_sheet.columns = raw_columns\n",
    "summary_sheet.to_excel('1.xlsx', index=False)\n"
   ],
   "metadata": {
    "collapsed": false
   },
   "id": "fb53440aa4a79b16"
  },
  {
   "cell_type": "markdown",
   "source": [],
   "metadata": {
    "collapsed": false
   },
   "id": "5493c908859123d5"
  }
 ],
 "metadata": {
  "kernelspec": {
   "display_name": "Python 3",
   "language": "python",
   "name": "python3"
  },
  "language_info": {
   "codemirror_mode": {
    "name": "ipython",
    "version": 2
   },
   "file_extension": ".py",
   "mimetype": "text/x-python",
   "name": "python",
   "nbconvert_exporter": "python",
   "pygments_lexer": "ipython2",
   "version": "2.7.6"
  }
 },
 "nbformat": 4,
 "nbformat_minor": 5
}
